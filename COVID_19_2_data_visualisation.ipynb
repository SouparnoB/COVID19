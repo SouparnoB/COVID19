{
 "cells": [
  {
   "cell_type": "code",
   "execution_count": 1,
   "metadata": {},
   "outputs": [],
   "source": [
    "#importing libraries for dataframe and computation\n",
    "import pandas as pd\n",
    "import numpy as np\n",
    "from scipy import stats\n",
    "\n",
    "#importing plotting libraries\n",
    "import matplotlib.pyplot as plt\n",
    "import seaborn as sns\n",
    "\n",
    "#importing data modelling libraries\n",
    "from sklearn.linear_model import LinearRegression\n",
    "from sklearn.preprocessing import StandardScaler\n",
    "from sklearn.preprocessing import PolynomialFeatures\n",
    "from sklearn.pipeline import Pipeline\n",
    "from sklearn.model_selection import train_test_split\n",
    "#importing libraries for model evaluation\n",
    "from sklearn.metrics import r2_score\n",
    "from sklearn.metrics import mean_squared_error"
   ]
  },
  {
   "cell_type": "code",
   "execution_count": 2,
   "metadata": {},
   "outputs": [
    {
     "data": {
      "text/html": [
       "<div>\n",
       "<style scoped>\n",
       "    .dataframe tbody tr th:only-of-type {\n",
       "        vertical-align: middle;\n",
       "    }\n",
       "\n",
       "    .dataframe tbody tr th {\n",
       "        vertical-align: top;\n",
       "    }\n",
       "\n",
       "    .dataframe thead th {\n",
       "        text-align: right;\n",
       "    }\n",
       "</style>\n",
       "<table border=\"1\" class=\"dataframe\">\n",
       "  <thead>\n",
       "    <tr style=\"text-align: right;\">\n",
       "      <th></th>\n",
       "      <th>province_name</th>\n",
       "      <th>country</th>\n",
       "      <th>hdi</th>\n",
       "      <th>population_density</th>\n",
       "      <th>urban_pop</th>\n",
       "      <th>clean_water_access</th>\n",
       "      <th>health_expense</th>\n",
       "      <th>life_expectancy</th>\n",
       "      <th>infant_mortality</th>\n",
       "      <th>confirmed</th>\n",
       "    </tr>\n",
       "  </thead>\n",
       "  <tbody>\n",
       "    <tr>\n",
       "      <th>0</th>\n",
       "      <td>Iceland</td>\n",
       "      <td>Iceland</td>\n",
       "      <td>0.935</td>\n",
       "      <td>3.543</td>\n",
       "      <td>342650</td>\n",
       "      <td>359679</td>\n",
       "      <td>1.623299e+09</td>\n",
       "      <td>82.200</td>\n",
       "      <td>1.600000</td>\n",
       "      <td>1802</td>\n",
       "    </tr>\n",
       "    <tr>\n",
       "      <th>1</th>\n",
       "      <td>Abruzzo</td>\n",
       "      <td>Italy</td>\n",
       "      <td>0.884</td>\n",
       "      <td>121.488</td>\n",
       "      <td>906015</td>\n",
       "      <td>1306906</td>\n",
       "      <td>3.707051e+09</td>\n",
       "      <td>82.393</td>\n",
       "      <td>3.003398</td>\n",
       "      <td>3178</td>\n",
       "    </tr>\n",
       "    <tr>\n",
       "      <th>2</th>\n",
       "      <td>Andalusia</td>\n",
       "      <td>Spain</td>\n",
       "      <td>0.862</td>\n",
       "      <td>96.418</td>\n",
       "      <td>6465226</td>\n",
       "      <td>8109662</td>\n",
       "      <td>1.881265e+10</td>\n",
       "      <td>79.588</td>\n",
       "      <td>2.799328</td>\n",
       "      <td>12420</td>\n",
       "    </tr>\n",
       "    <tr>\n",
       "      <th>3</th>\n",
       "      <td>Anhui</td>\n",
       "      <td>China</td>\n",
       "      <td>0.724</td>\n",
       "      <td>425.916</td>\n",
       "      <td>31598381</td>\n",
       "      <td>43113201</td>\n",
       "      <td>2.474495e+10</td>\n",
       "      <td>72.304</td>\n",
       "      <td>11.079683</td>\n",
       "      <td>991</td>\n",
       "    </tr>\n",
       "    <tr>\n",
       "      <th>4</th>\n",
       "      <td>Aragon</td>\n",
       "      <td>Spain</td>\n",
       "      <td>0.898</td>\n",
       "      <td>27.647</td>\n",
       "      <td>1056035</td>\n",
       "      <td>1324553</td>\n",
       "      <td>3.072875e+09</td>\n",
       "      <td>82.912</td>\n",
       "      <td>2.916237</td>\n",
       "      <td>5456</td>\n",
       "    </tr>\n",
       "  </tbody>\n",
       "</table>\n",
       "</div>"
      ],
      "text/plain": [
       "  province_name  country    hdi  population_density  urban_pop  \\\n",
       "0       Iceland  Iceland  0.935               3.543     342650   \n",
       "1       Abruzzo    Italy  0.884             121.488     906015   \n",
       "2     Andalusia    Spain  0.862              96.418    6465226   \n",
       "3         Anhui    China  0.724             425.916   31598381   \n",
       "4        Aragon    Spain  0.898              27.647    1056035   \n",
       "\n",
       "   clean_water_access  health_expense  life_expectancy  infant_mortality  \\\n",
       "0              359679    1.623299e+09           82.200          1.600000   \n",
       "1             1306906    3.707051e+09           82.393          3.003398   \n",
       "2             8109662    1.881265e+10           79.588          2.799328   \n",
       "3            43113201    2.474495e+10           72.304         11.079683   \n",
       "4             1324553    3.072875e+09           82.912          2.916237   \n",
       "\n",
       "   confirmed  \n",
       "0       1802  \n",
       "1       3178  \n",
       "2      12420  \n",
       "3        991  \n",
       "4       5456  "
      ]
     },
     "execution_count": 2,
     "metadata": {},
     "output_type": "execute_result"
    }
   ],
   "source": [
    "#importing dataset\n",
    "df=pd.read_csv('G:/DataAnalytics/Data/COVID_19_analysis_data.csv')\n",
    "df.head()"
   ]
  },
  {
   "cell_type": "code",
   "execution_count": 38,
   "metadata": {},
   "outputs": [],
   "source": [
    "df.to_excel('G:/DataAnalytics/Data/COVID_19_analysis.xlsx')"
   ]
  },
  {
   "cell_type": "code",
   "execution_count": 3,
   "metadata": {},
   "outputs": [
    {
     "data": {
      "text/plain": [
       "(94, 10)"
      ]
     },
     "execution_count": 3,
     "metadata": {},
     "output_type": "execute_result"
    }
   ],
   "source": [
    "df.shape"
   ]
  },
  {
   "cell_type": "code",
   "execution_count": 4,
   "metadata": {},
   "outputs": [],
   "source": [
    "from sklearn.model_selection import train_test_split"
   ]
  },
  {
   "cell_type": "markdown",
   "metadata": {},
   "source": [
    "## Exploratory Analysis"
   ]
  },
  {
   "cell_type": "code",
   "execution_count": 5,
   "metadata": {},
   "outputs": [
    {
     "data": {
      "text/plain": [
       "(0, 89286.12337721071)"
      ]
     },
     "execution_count": 5,
     "metadata": {},
     "output_type": "execute_result"
    },
    {
     "data": {
      "image/png": "[encoded data removed]",
      "text/plain": [
       "<Figure size 432x288 with 1 Axes>"
      ]
     },
     "metadata": {
      "needs_background": "light"
     },
     "output_type": "display_data"
    }
   ],
   "source": [
    "#hdi v/s confirmed\n",
    "\n",
    "sns.regplot(x='hdi',y='confirmed',data=df)\n",
    "plt.ylim(0,)"
   ]
  },
  {
   "cell_type": "code",
   "execution_count": 6,
   "metadata": {},
   "outputs": [
    {
     "data": {
      "text/plain": [
       "(0, 89395.5951769122)"
      ]
     },
     "execution_count": 6,
     "metadata": {},
     "output_type": "execute_result"
    },
    {
     "data": {
      "image/png": "[encoded data removed]",
      "text/plain": [
       "<Figure size 432x288 with 1 Axes>"
      ]
     },
     "metadata": {
      "needs_background": "light"
     },
     "output_type": "display_data"
    }
   ],
   "source": [
    "#population density v/s confirmed\n",
    "\n",
    "sns.regplot(x='population_density',y='confirmed',data=df)\n",
    "plt.ylim(0,)"
   ]
  },
  {
   "cell_type": "code",
   "execution_count": 7,
   "metadata": {},
   "outputs": [
    {
     "data": {
      "text/plain": [
       "(0, 88855.18075042182)"
      ]
     },
     "execution_count": 7,
     "metadata": {},
     "output_type": "execute_result"
    },
    {
     "data": {
      "image/png": "[encoded data removed]",
      "text/plain": [
       "<Figure size 432x288 with 1 Axes>"
      ]
     },
     "metadata": {
      "needs_background": "light"
     },
     "output_type": "display_data"
    }
   ],
   "source": [
    "#urban population v/s confirmed\n",
    "\n",
    "sns.regplot(x='urban_pop',y='confirmed',data=df)\n",
    "plt.ylim(0,)"
   ]
  },
  {
   "cell_type": "code",
   "execution_count": 8,
   "metadata": {},
   "outputs": [
    {
     "data": {
      "text/plain": [
       "(0, 88848.11277147192)"
      ]
     },
     "execution_count": 8,
     "metadata": {},
     "output_type": "execute_result"
    },
    {
     "data": {
      "image/png": "[encoded data removed]",
      "text/plain": [
       "<Figure size 432x288 with 1 Axes>"
      ]
     },
     "metadata": {
      "needs_background": "light"
     },
     "output_type": "display_data"
    }
   ],
   "source": [
    "#Access of clean water v/s confirmed\n",
    "\n",
    "sns.regplot(x='clean_water_access',y='confirmed',data=df)\n",
    "plt.ylim(0,)"
   ]
  },
  {
   "cell_type": "code",
   "execution_count": 9,
   "metadata": {},
   "outputs": [
    {
     "data": {
      "text/plain": [
       "(0, 88757.23584536384)"
      ]
     },
     "execution_count": 9,
     "metadata": {},
     "output_type": "execute_result"
    },
    {
     "data": {
      "image/png": "[encoded data removed]",
      "text/plain": [
       "<Figure size 432x288 with 1 Axes>"
      ]
     },
     "metadata": {
      "needs_background": "light"
     },
     "output_type": "display_data"
    }
   ],
   "source": [
    "#Expenditure on health by state v/s confirmed\n",
    "\n",
    "sns.regplot(x='health_expense',y='confirmed',data=df)\n",
    "plt.ylim(0,)"
   ]
  },
  {
   "cell_type": "code",
   "execution_count": 10,
   "metadata": {},
   "outputs": [
    {
     "data": {
      "text/plain": [
       "(0, 89649.55989829886)"
      ]
     },
     "execution_count": 10,
     "metadata": {},
     "output_type": "execute_result"
    },
    {
     "data": {
      "image/png": "[encoded data removed]",
      "text/plain": [
       "<Figure size 432x288 with 1 Axes>"
      ]
     },
     "metadata": {
      "needs_background": "light"
     },
     "output_type": "display_data"
    }
   ],
   "source": [
    "#life expectancy v/s confirmed\n",
    "\n",
    "sns.regplot(x='life_expectancy',y='confirmed',data=df)\n",
    "plt.ylim(0,)"
   ]
  },
  {
   "cell_type": "code",
   "execution_count": 11,
   "metadata": {
    "scrolled": true
   },
   "outputs": [
    {
     "data": {
      "text/plain": [
       "(0, 88921.99651106434)"
      ]
     },
     "execution_count": 11,
     "metadata": {},
     "output_type": "execute_result"
    },
    {
     "data": {
      "image/png": "[encoded data removed]",
      "text/plain": [
       "<Figure size 432x288 with 1 Axes>"
      ]
     },
     "metadata": {
      "needs_background": "light"
     },
     "output_type": "display_data"
    }
   ],
   "source": [
    "#infant mortality v/s confirmed\n",
    "\n",
    "sns.regplot(x='infant_mortality',y='confirmed',data=df)\n",
    "plt.ylim(0,)"
   ]
  },
  {
   "cell_type": "code",
   "execution_count": 12,
   "metadata": {
    "scrolled": true
   },
   "outputs": [
    {
     "data": {
      "text/plain": [
       "(0, 81207.38049157347)"
      ]
     },
     "execution_count": 12,
     "metadata": {},
     "output_type": "execute_result"
    },
    {
     "data": {
      "image/png": "[encoded data removed]",
      "text/plain": [
       "<Figure size 432x288 with 1 Axes>"
      ]
     },
     "metadata": {
      "needs_background": "light"
     },
     "output_type": "display_data"
    }
   ],
   "source": [
    "#Access of clean water v/s confirmed\n",
    "\n",
    "sns.residplot(x='clean_water_access',y='confirmed',data=df)\n",
    "plt.ylim(0,)"
   ]
  },
  {
   "cell_type": "code",
   "execution_count": 13,
   "metadata": {},
   "outputs": [],
   "source": [
    "pvalue=[]\n",
    "feature=[]"
   ]
  },
  {
   "cell_type": "code",
   "execution_count": 14,
   "metadata": {},
   "outputs": [],
   "source": [
    "prsn_cf,p_val=stats.pearsonr(df['hdi'],df['confirmed'])\n",
    "pvalue.append(p_val)\n",
    "feature.append('hdi')"
   ]
  },
  {
   "cell_type": "code",
   "execution_count": null,
   "metadata": {},
   "outputs": [],
   "source": []
  },
  {
   "cell_type": "code",
   "execution_count": 15,
   "metadata": {},
   "outputs": [],
   "source": [
    "prsn_cf,p_val=stats.pearsonr(df['population_density'],df['confirmed'])\n",
    "pvalue.append(p_val)\n",
    "feature.append('population_density')"
   ]
  },
  {
   "cell_type": "code",
   "execution_count": 16,
   "metadata": {},
   "outputs": [],
   "source": [
    "prsn_cf,p_val=stats.pearsonr(df['urban_pop'],df['confirmed'])\n",
    "pvalue.append(p_val)\n",
    "feature.append('urban_pop')"
   ]
  },
  {
   "cell_type": "code",
   "execution_count": 17,
   "metadata": {},
   "outputs": [],
   "source": [
    "prsn_cf,p_val=stats.pearsonr(df['clean_water_access'],df['confirmed'])\n",
    "pvalue.append(p_val)\n",
    "feature.append('clean_water_access')"
   ]
  },
  {
   "cell_type": "code",
   "execution_count": 18,
   "metadata": {},
   "outputs": [],
   "source": [
    "prsn_cf,p_val=stats.pearsonr(df['health_expense'],df['confirmed'])\n",
    "pvalue.append(p_val)\n",
    "feature.append('health_expense')"
   ]
  },
  {
   "cell_type": "code",
   "execution_count": 19,
   "metadata": {},
   "outputs": [],
   "source": [
    "prsn_cf,p_val=stats.pearsonr(df['life_expectancy'],df['confirmed'])\n",
    "pvalue.append(p_val)\n",
    "feature.append('life_expectancy')"
   ]
  },
  {
   "cell_type": "code",
   "execution_count": 20,
   "metadata": {},
   "outputs": [],
   "source": [
    "prsn_cf,p_val=stats.pearsonr(df['infant_mortality'],df['confirmed'])\n",
    "pvalue.append(p_val)\n",
    "feature.append('infant_mortality')"
   ]
  },
  {
   "cell_type": "code",
   "execution_count": 21,
   "metadata": {},
   "outputs": [
    {
     "data": {
      "text/html": [
       "<div>\n",
       "<style scoped>\n",
       "    .dataframe tbody tr th:only-of-type {\n",
       "        vertical-align: middle;\n",
       "    }\n",
       "\n",
       "    .dataframe tbody tr th {\n",
       "        vertical-align: top;\n",
       "    }\n",
       "\n",
       "    .dataframe thead th {\n",
       "        text-align: right;\n",
       "    }\n",
       "</style>\n",
       "<table border=\"1\" class=\"dataframe\">\n",
       "  <thead>\n",
       "    <tr style=\"text-align: right;\">\n",
       "      <th></th>\n",
       "      <th>Feature</th>\n",
       "      <th>P value</th>\n",
       "    </tr>\n",
       "  </thead>\n",
       "  <tbody>\n",
       "    <tr>\n",
       "      <th>0</th>\n",
       "      <td>hdi</td>\n",
       "      <td>0.026606</td>\n",
       "    </tr>\n",
       "    <tr>\n",
       "      <th>1</th>\n",
       "      <td>population_density</td>\n",
       "      <td>0.618050</td>\n",
       "    </tr>\n",
       "    <tr>\n",
       "      <th>2</th>\n",
       "      <td>urban_pop</td>\n",
       "      <td>0.728931</td>\n",
       "    </tr>\n",
       "    <tr>\n",
       "      <th>3</th>\n",
       "      <td>clean_water_access</td>\n",
       "      <td>0.715878</td>\n",
       "    </tr>\n",
       "    <tr>\n",
       "      <th>4</th>\n",
       "      <td>health_expense</td>\n",
       "      <td>0.000336</td>\n",
       "    </tr>\n",
       "    <tr>\n",
       "      <th>5</th>\n",
       "      <td>life_expectancy</td>\n",
       "      <td>0.037329</td>\n",
       "    </tr>\n",
       "    <tr>\n",
       "      <th>6</th>\n",
       "      <td>infant_mortality</td>\n",
       "      <td>0.023022</td>\n",
       "    </tr>\n",
       "  </tbody>\n",
       "</table>\n",
       "</div>"
      ],
      "text/plain": [
       "              Feature   P value\n",
       "0                 hdi  0.026606\n",
       "1  population_density  0.618050\n",
       "2           urban_pop  0.728931\n",
       "3  clean_water_access  0.715878\n",
       "4      health_expense  0.000336\n",
       "5     life_expectancy  0.037329\n",
       "6    infant_mortality  0.023022"
      ]
     },
     "execution_count": 21,
     "metadata": {},
     "output_type": "execute_result"
    }
   ],
   "source": [
    "p_value=pd.DataFrame({'Feature':feature,'P value':pvalue})\n",
    "p_value"
   ]
  },
  {
   "cell_type": "code",
   "execution_count": 22,
   "metadata": {},
   "outputs": [
    {
     "data": {
      "text/html": [
       "<div>\n",
       "<style scoped>\n",
       "    .dataframe tbody tr th:only-of-type {\n",
       "        vertical-align: middle;\n",
       "    }\n",
       "\n",
       "    .dataframe tbody tr th {\n",
       "        vertical-align: top;\n",
       "    }\n",
       "\n",
       "    .dataframe thead th {\n",
       "        text-align: right;\n",
       "    }\n",
       "</style>\n",
       "<table border=\"1\" class=\"dataframe\">\n",
       "  <thead>\n",
       "    <tr style=\"text-align: right;\">\n",
       "      <th></th>\n",
       "      <th>hdi</th>\n",
       "      <th>population_density</th>\n",
       "      <th>urban_pop</th>\n",
       "      <th>clean_water_access</th>\n",
       "      <th>health_expense</th>\n",
       "      <th>life_expectancy</th>\n",
       "      <th>infant_mortality</th>\n",
       "      <th>confirmed</th>\n",
       "    </tr>\n",
       "  </thead>\n",
       "  <tbody>\n",
       "    <tr>\n",
       "      <th>hdi</th>\n",
       "      <td>1.000000</td>\n",
       "      <td>0.134897</td>\n",
       "      <td>-0.585306</td>\n",
       "      <td>-0.586858</td>\n",
       "      <td>-0.047214</td>\n",
       "      <td>0.840657</td>\n",
       "      <td>-0.706297</td>\n",
       "      <td>0.228712</td>\n",
       "    </tr>\n",
       "    <tr>\n",
       "      <th>population_density</th>\n",
       "      <td>0.134897</td>\n",
       "      <td>1.000000</td>\n",
       "      <td>-0.045409</td>\n",
       "      <td>-0.042726</td>\n",
       "      <td>-0.089021</td>\n",
       "      <td>0.347288</td>\n",
       "      <td>0.285398</td>\n",
       "      <td>-0.052090</td>\n",
       "    </tr>\n",
       "    <tr>\n",
       "      <th>urban_pop</th>\n",
       "      <td>-0.585306</td>\n",
       "      <td>-0.045409</td>\n",
       "      <td>1.000000</td>\n",
       "      <td>0.999794</td>\n",
       "      <td>0.590572</td>\n",
       "      <td>-0.396119</td>\n",
       "      <td>0.692251</td>\n",
       "      <td>-0.036217</td>\n",
       "    </tr>\n",
       "    <tr>\n",
       "      <th>clean_water_access</th>\n",
       "      <td>-0.586858</td>\n",
       "      <td>-0.042726</td>\n",
       "      <td>0.999794</td>\n",
       "      <td>1.000000</td>\n",
       "      <td>0.582696</td>\n",
       "      <td>-0.392871</td>\n",
       "      <td>0.695597</td>\n",
       "      <td>-0.038036</td>\n",
       "    </tr>\n",
       "    <tr>\n",
       "      <th>health_expense</th>\n",
       "      <td>-0.047214</td>\n",
       "      <td>-0.089021</td>\n",
       "      <td>0.590572</td>\n",
       "      <td>0.582696</td>\n",
       "      <td>1.000000</td>\n",
       "      <td>-0.130107</td>\n",
       "      <td>0.180100</td>\n",
       "      <td>0.362084</td>\n",
       "    </tr>\n",
       "    <tr>\n",
       "      <th>life_expectancy</th>\n",
       "      <td>0.840657</td>\n",
       "      <td>0.347288</td>\n",
       "      <td>-0.396119</td>\n",
       "      <td>-0.392871</td>\n",
       "      <td>-0.130107</td>\n",
       "      <td>1.000000</td>\n",
       "      <td>-0.369076</td>\n",
       "      <td>0.215114</td>\n",
       "    </tr>\n",
       "    <tr>\n",
       "      <th>infant_mortality</th>\n",
       "      <td>-0.706297</td>\n",
       "      <td>0.285398</td>\n",
       "      <td>0.692251</td>\n",
       "      <td>0.695597</td>\n",
       "      <td>0.180100</td>\n",
       "      <td>-0.369076</td>\n",
       "      <td>1.000000</td>\n",
       "      <td>-0.234310</td>\n",
       "    </tr>\n",
       "    <tr>\n",
       "      <th>confirmed</th>\n",
       "      <td>0.228712</td>\n",
       "      <td>-0.052090</td>\n",
       "      <td>-0.036217</td>\n",
       "      <td>-0.038036</td>\n",
       "      <td>0.362084</td>\n",
       "      <td>0.215114</td>\n",
       "      <td>-0.234310</td>\n",
       "      <td>1.000000</td>\n",
       "    </tr>\n",
       "  </tbody>\n",
       "</table>\n",
       "</div>"
      ],
      "text/plain": [
       "                         hdi  population_density  urban_pop  \\\n",
       "hdi                 1.000000            0.134897  -0.585306   \n",
       "population_density  0.134897            1.000000  -0.045409   \n",
       "urban_pop          -0.585306           -0.045409   1.000000   \n",
       "clean_water_access -0.586858           -0.042726   0.999794   \n",
       "health_expense     -0.047214           -0.089021   0.590572   \n",
       "life_expectancy     0.840657            0.347288  -0.396119   \n",
       "infant_mortality   -0.706297            0.285398   0.692251   \n",
       "confirmed           0.228712           -0.052090  -0.036217   \n",
       "\n",
       "                    clean_water_access  health_expense  life_expectancy  \\\n",
       "hdi                          -0.586858       -0.047214         0.840657   \n",
       "population_density           -0.042726       -0.089021         0.347288   \n",
       "urban_pop                     0.999794        0.590572        -0.396119   \n",
       "clean_water_access            1.000000        0.582696        -0.392871   \n",
       "health_expense                0.582696        1.000000        -0.130107   \n",
       "life_expectancy              -0.392871       -0.130107         1.000000   \n",
       "infant_mortality              0.695597        0.180100        -0.369076   \n",
       "confirmed                    -0.038036        0.362084         0.215114   \n",
       "\n",
       "                    infant_mortality  confirmed  \n",
       "hdi                        -0.706297   0.228712  \n",
       "population_density          0.285398  -0.052090  \n",
       "urban_pop                   0.692251  -0.036217  \n",
       "clean_water_access          0.695597  -0.038036  \n",
       "health_expense              0.180100   0.362084  \n",
       "life_expectancy            -0.369076   0.215114  \n",
       "infant_mortality            1.000000  -0.234310  \n",
       "confirmed                  -0.234310   1.000000  "
      ]
     },
     "execution_count": 22,
     "metadata": {},
     "output_type": "execute_result"
    }
   ],
   "source": [
    "df.corr()"
   ]
  }
 ],
 "metadata": {
  "kernelspec": {
   "display_name": "Python 3",
   "language": "python",
   "name": "python3"
  },
  "language_info": {
   "codemirror_mode": {
    "name": "ipython",
    "version": 3
   },
   "file_extension": ".py",
   "mimetype": "text/x-python",
   "name": "python",
   "nbconvert_exporter": "python",
   "pygments_lexer": "ipython3",
   "version": "3.7.6"
  }
 },
 "nbformat": 4,
 "nbformat_minor": 4
}
